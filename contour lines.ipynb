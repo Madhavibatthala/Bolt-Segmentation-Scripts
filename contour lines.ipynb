{
 "cells": [
  {
   "cell_type": "code",
   "execution_count": 1,
   "id": "b7a4ad29",
   "metadata": {},
   "outputs": [
    {
     "name": "stdout",
     "output_type": "stream",
     "text": [
      "Defaulting to user installation because normal site-packages is not writeable\n",
      "Requirement already satisfied: opencv-python in c:\\users\\hp\\appdata\\roaming\\python\\python310\\site-packages (4.9.0.80)\n",
      "Requirement already satisfied: numpy>=1.21.2 in c:\\programdata\\anaconda3\\lib\\site-packages (from opencv-python) (1.23.5)\n"
     ]
    }
   ],
   "source": [
    "!pip install opencv-python"
   ]
  },
  {
   "cell_type": "code",
   "execution_count": 1,
   "id": "ef35d666",
   "metadata": {},
   "outputs": [],
   "source": [
    "import cv2"
   ]
  },
  {
   "cell_type": "code",
   "execution_count": 1,
   "id": "fa9a7005",
   "metadata": {},
   "outputs": [],
   "source": [
    "import cv2\n",
    "import numpy as np\n",
    "\n",
    "# Function to detect hexagon shapes\n",
    "def detect_hexagons(image):\n",
    "    # Convert the image to grayscale\n",
    "    gray = cv2.cvtColor(image, cv2.COLOR_BGR2GRAY)\n",
    "    \n",
    "    # Apply GaussianBlur to reduce noise and help contour detection\n",
    "    blurred = cv2.GaussianBlur(gray, (5, 5), 0)\n",
    "    \n",
    "    # Use Canny edge detection\n",
    "    edges = cv2.Canny(blurred, 50, 150)\n",
    "    \n",
    "    # Find contours\n",
    "    contours, _ = cv2.findContours(edges, cv2.RETR_EXTERNAL, cv2.CHAIN_APPROX_SIMPLE)\n",
    "    \n",
    "    hexagons = []\n",
    "    \n",
    "    # Loop through the contours\n",
    "    for contour in contours:\n",
    "        # Approximate the contour to a polygon\n",
    "        epsilon = 0.02 * cv2.arcLength(contour, True)\n",
    "        approx = cv2.approxPolyDP(contour, epsilon, True)\n",
    "        \n",
    "        # If the polygon has 6 vertices, consider it a hexagon\n",
    "        if len(approx) == 6:\n",
    "            hexagons.append(approx)\n",
    "    \n",
    "    return hexagons\n",
    "\n",
    "# Open the camera\n",
    "cap = cv2.VideoCapture(0)\n",
    "\n",
    "while True:\n",
    "    # Capture frame-by-frame\n",
    "    ret, frame = cap.read()\n",
    "\n",
    "    # Detect hexagons\n",
    "    hexagons = detect_hexagons(frame)\n",
    "\n",
    "    # Draw contours on the frame\n",
    "    cv2.drawContours(frame, hexagons, -1, (0, 255, 0), 2)\n",
    "\n",
    "    # Display the resulting frame\n",
    "    cv2.imshow('Hexagon Detection', frame)\n",
    "\n",
    "    # Capture an image on key press (change the key if needed)\n",
    "    if cv2.waitKey(1) & 0xFF == ord('c'):\n",
    "        cv2.imwrite('captured_image.jpg', frame)\n",
    "        print('Image captured!')\n",
    "\n",
    "    # Break the loop on 'q' key press\n",
    "    if cv2.waitKey(1) & 0xFF == ord('q'):\n",
    "        break\n",
    "\n",
    "# When everything is done, release the capture\n",
    "cap.release()\n",
    "cv2.destroyAllWindows()\n"
   ]
  },
  {
   "cell_type": "code",
   "execution_count": 1,
   "id": "18a3b8dd",
   "metadata": {},
   "outputs": [
    {
     "name": "stdout",
     "output_type": "stream",
     "text": [
      "Requirement already satisfied: roboflow in c:\\programdata\\anaconda3\\lib\\site-packages (1.1.15)\n",
      "Requirement already satisfied: cycler==0.10.0 in c:\\programdata\\anaconda3\\lib\\site-packages (from roboflow) (0.10.0)\n",
      "Requirement already satisfied: python-dateutil in c:\\programdata\\anaconda3\\lib\\site-packages (from roboflow) (2.8.2)\n",
      "Requirement already satisfied: requests in c:\\programdata\\anaconda3\\lib\\site-packages (from roboflow) (2.28.1)\n",
      "Requirement already satisfied: opencv-python-headless==4.8.0.74 in c:\\programdata\\anaconda3\\lib\\site-packages (from roboflow) (4.8.0.74)\n",
      "Requirement already satisfied: chardet==4.0.0 in c:\\programdata\\anaconda3\\lib\\site-packages (from roboflow) (4.0.0)\n",
      "Requirement already satisfied: kiwisolver>=1.3.1 in c:\\programdata\\anaconda3\\lib\\site-packages (from roboflow) (1.4.4)\n",
      "Requirement already satisfied: numpy>=1.18.5 in c:\\programdata\\anaconda3\\lib\\site-packages (from roboflow) (1.23.5)\n",
      "Requirement already satisfied: six in c:\\programdata\\anaconda3\\lib\\site-packages (from roboflow) (1.16.0)\n",
      "Requirement already satisfied: supervision in c:\\programdata\\anaconda3\\lib\\site-packages (from roboflow) (0.17.1)\n",
      "Requirement already satisfied: PyYAML>=5.3.1 in c:\\programdata\\anaconda3\\lib\\site-packages (from roboflow) (6.0)\n",
      "Requirement already satisfied: certifi==2023.7.22 in c:\\programdata\\anaconda3\\lib\\site-packages (from roboflow) (2023.7.22)\n",
      "Requirement already satisfied: pyparsing==2.4.7 in c:\\users\\hp\\appdata\\roaming\\python\\python310\\site-packages (from roboflow) (2.4.7)\n",
      "Requirement already satisfied: urllib3>=1.26.6 in c:\\programdata\\anaconda3\\lib\\site-packages (from roboflow) (1.26.14)\n",
      "Requirement already satisfied: matplotlib in c:\\programdata\\anaconda3\\lib\\site-packages (from roboflow) (3.7.0)\n",
      "Requirement already satisfied: python-dotenv in c:\\users\\hp\\appdata\\roaming\\python\\python310\\site-packages (from roboflow) (1.0.0)\n",
      "Requirement already satisfied: requests-toolbelt in c:\\programdata\\anaconda3\\lib\\site-packages (from roboflow) (0.9.1)\n",
      "Requirement already satisfied: idna==2.10 in c:\\programdata\\anaconda3\\lib\\site-packages (from roboflow) (2.10)\n",
      "Requirement already satisfied: tqdm>=4.41.0 in c:\\programdata\\anaconda3\\lib\\site-packages (from roboflow) (4.64.1)\n",
      "Requirement already satisfied: python-magic in c:\\users\\hp\\appdata\\roaming\\python\\python310\\site-packages (from roboflow) (0.4.27)\n",
      "Requirement already satisfied: Pillow>=7.1.2 in c:\\programdata\\anaconda3\\lib\\site-packages (from roboflow) (9.4.0)\n",
      "Requirement already satisfied: colorama in c:\\programdata\\anaconda3\\lib\\site-packages (from tqdm>=4.41.0->roboflow) (0.4.6)\n",
      "Requirement already satisfied: fonttools>=4.22.0 in c:\\programdata\\anaconda3\\lib\\site-packages (from matplotlib->roboflow) (4.25.0)\n",
      "Requirement already satisfied: packaging>=20.0 in c:\\programdata\\anaconda3\\lib\\site-packages (from matplotlib->roboflow) (22.0)\n",
      "Requirement already satisfied: contourpy>=1.0.1 in c:\\programdata\\anaconda3\\lib\\site-packages (from matplotlib->roboflow) (1.0.5)\n",
      "Requirement already satisfied: charset-normalizer<3,>=2 in c:\\programdata\\anaconda3\\lib\\site-packages (from requests->roboflow) (2.0.4)\n",
      "Requirement already satisfied: scipy>=1.9.0 in c:\\programdata\\anaconda3\\lib\\site-packages (from supervision->roboflow) (1.10.0)\n",
      "Note: you may need to restart the kernel to use updated packages.\n"
     ]
    }
   ],
   "source": [
    "pip install --user roboflow"
   ]
  },
  {
   "cell_type": "code",
   "execution_count": 1,
   "id": "22e6c743",
   "metadata": {},
   "outputs": [
    {
     "name": "stdout",
     "output_type": "stream",
     "text": [
      "loading Roboflow workspace...\n",
      "loading Roboflow project...\n",
      "{'predictions': [{'x': 320.0, 'y': 320.5, 'width': 502.0, 'height': 273.0, 'confidence': 0.9469457864761353, 'class': 'bolt', 'class_id': 0, 'image_path': 'myimg.jpg', 'prediction_type': 'ObjectDetectionModel'}], 'image': {'width': '640', 'height': '640'}}\n"
     ]
    }
   ],
   "source": [
    "import cv2\n",
    "from roboflow import Roboflow\n",
    "\n",
    "# Initialize Roboflow\n",
    "rf = Roboflow(api_key=\"dhOw3ym7s1Kivzengl6a\")\n",
    "project = rf.workspace().project(\"bolt-sgg5o\")\n",
    "model = project.version(4).model\n",
    "\n",
    "# infer on a local image\n",
    "print(model.predict(\"myimg.jpg\", confidence=40, overlap=30).json())\n",
    "\n",
    "# visualize your prediction\n",
    "\n",
    "model.predict(\"myimg.jpg\", confidence=40, overlap=30).save(\"c_pred.jpg\")\n",
    "\n",
    "\n"
   ]
  },
  {
   "cell_type": "code",
   "execution_count": 2,
   "id": "51b4ae22",
   "metadata": {},
   "outputs": [
    {
     "ename": "HTTPError",
     "evalue": "403 Client Error: Forbidden for url: https://detect.roboflow.com/bolt-sgg5o/3?api_key=ZEsjQSUZgajPJ4DtvNLQ&name=YOUR_IMAGE.jpg&overlap=30&confidence=40&stroke=1&labels=false&format=json",
     "output_type": "error",
     "traceback": [
      "\u001b[1;31m---------------------------------------------------------------------------\u001b[0m",
      "\u001b[1;31mHTTPError\u001b[0m                                 Traceback (most recent call last)",
      "Cell \u001b[1;32mIn[2], line 1\u001b[0m\n\u001b[1;32m----> 1\u001b[0m output  \u001b[38;5;241m=\u001b[39m \u001b[43mmodel\u001b[49m\u001b[38;5;241;43m.\u001b[39;49m\u001b[43mpredict\u001b[49m\u001b[43m(\u001b[49m\u001b[38;5;124;43m\"\u001b[39;49m\u001b[38;5;124;43mmyimg.jpg\u001b[39;49m\u001b[38;5;124;43m\"\u001b[39;49m\u001b[43m,\u001b[49m\u001b[43m \u001b[49m\u001b[43mconfidence\u001b[49m\u001b[38;5;241;43m=\u001b[39;49m\u001b[38;5;241;43m40\u001b[39;49m\u001b[43m,\u001b[49m\u001b[43m \u001b[49m\u001b[43moverlap\u001b[49m\u001b[38;5;241;43m=\u001b[39;49m\u001b[38;5;241;43m30\u001b[39;49m\u001b[43m)\u001b[49m\u001b[38;5;241m.\u001b[39mjson()\n",
      "File \u001b[1;32mC:\\ProgramData\\anaconda3\\lib\\site-packages\\roboflow\\models\\object_detection.py:243\u001b[0m, in \u001b[0;36mObjectDetectionModel.predict\u001b[1;34m(self, image_path, hosted, format, classes, overlap, confidence, stroke, labels)\u001b[0m\n\u001b[0;32m    240\u001b[0m     \u001b[38;5;66;03m# POST to the API\u001b[39;00m\n\u001b[0;32m    241\u001b[0m     resp \u001b[38;5;241m=\u001b[39m requests\u001b[38;5;241m.\u001b[39mpost(\u001b[38;5;28mself\u001b[39m\u001b[38;5;241m.\u001b[39mapi_url)\n\u001b[1;32m--> 243\u001b[0m \u001b[43mresp\u001b[49m\u001b[38;5;241;43m.\u001b[39;49m\u001b[43mraise_for_status\u001b[49m\u001b[43m(\u001b[49m\u001b[43m)\u001b[49m\n\u001b[0;32m    244\u001b[0m \u001b[38;5;66;03m# Return a prediction group if JSON data\u001b[39;00m\n\u001b[0;32m    245\u001b[0m \u001b[38;5;28;01mif\u001b[39;00m \u001b[38;5;28mself\u001b[39m\u001b[38;5;241m.\u001b[39mformat \u001b[38;5;241m==\u001b[39m \u001b[38;5;124m\"\u001b[39m\u001b[38;5;124mjson\u001b[39m\u001b[38;5;124m\"\u001b[39m:\n",
      "File \u001b[1;32mC:\\ProgramData\\anaconda3\\lib\\site-packages\\requests\\models.py:1021\u001b[0m, in \u001b[0;36mResponse.raise_for_status\u001b[1;34m(self)\u001b[0m\n\u001b[0;32m   1016\u001b[0m     http_error_msg \u001b[38;5;241m=\u001b[39m (\n\u001b[0;32m   1017\u001b[0m         \u001b[38;5;124mf\u001b[39m\u001b[38;5;124m\"\u001b[39m\u001b[38;5;132;01m{\u001b[39;00m\u001b[38;5;28mself\u001b[39m\u001b[38;5;241m.\u001b[39mstatus_code\u001b[38;5;132;01m}\u001b[39;00m\u001b[38;5;124m Server Error: \u001b[39m\u001b[38;5;132;01m{\u001b[39;00mreason\u001b[38;5;132;01m}\u001b[39;00m\u001b[38;5;124m for url: \u001b[39m\u001b[38;5;132;01m{\u001b[39;00m\u001b[38;5;28mself\u001b[39m\u001b[38;5;241m.\u001b[39murl\u001b[38;5;132;01m}\u001b[39;00m\u001b[38;5;124m\"\u001b[39m\n\u001b[0;32m   1018\u001b[0m     )\n\u001b[0;32m   1020\u001b[0m \u001b[38;5;28;01mif\u001b[39;00m http_error_msg:\n\u001b[1;32m-> 1021\u001b[0m     \u001b[38;5;28;01mraise\u001b[39;00m HTTPError(http_error_msg, response\u001b[38;5;241m=\u001b[39m\u001b[38;5;28mself\u001b[39m)\n",
      "\u001b[1;31mHTTPError\u001b[0m: 403 Client Error: Forbidden for url: https://detect.roboflow.com/bolt-sgg5o/3?api_key=ZEsjQSUZgajPJ4DtvNLQ&name=YOUR_IMAGE.jpg&overlap=30&confidence=40&stroke=1&labels=false&format=json"
     ]
    }
   ],
   "source": [
    "output  = model.predict(\"myimg.jpg\", confidence=40, overlap=30).json()"
   ]
  },
  {
   "cell_type": "code",
   "execution_count": 7,
   "id": "b88a3da4",
   "metadata": {},
   "outputs": [
    {
     "name": "stdout",
     "output_type": "stream",
     "text": [
      "xmin: 320\n",
      "ymin: 320\n",
      "xmax: 822\n",
      "ymax: 593\n"
     ]
    }
   ],
   "source": [
    "# Assuming you have the output stored in the variable 'output'\n",
    "predictions = output['predictions']\n",
    "\n",
    "# Extract values for xmin, ymin, xmax, and ymax from the first prediction (assuming there is only one prediction)\n",
    "xmin = int(predictions[0]['x'])\n",
    "ymin = int(predictions[0]['y'])\n",
    "xmax = int(predictions[0]['x'] + predictions[0]['width'])\n",
    "ymax = int(predictions[0]['y'] + predictions[0]['height'])\n",
    "\n",
    "# Print the values\n",
    "print(\"xmin:\", xmin)\n",
    "print(\"ymin:\", ymin)\n",
    "print(\"xmax:\", xmax)\n",
    "print(\"ymax:\", ymax)\n"
   ]
  },
  {
   "cell_type": "code",
   "execution_count": 2,
   "id": "892682f0",
   "metadata": {},
   "outputs": [],
   "source": [
    "import os\n",
    "import pandas as pd"
   ]
  },
  {
   "cell_type": "code",
   "execution_count": 3,
   "id": "ef935ba9",
   "metadata": {},
   "outputs": [],
   "source": [
    "image_folder = \"mergeddataset\""
   ]
  },
  {
   "cell_type": "code",
   "execution_count": 4,
   "id": "be697d53",
   "metadata": {
    "scrolled": true
   },
   "outputs": [
    {
     "name": "stdout",
     "output_type": "stream",
     "text": [
      "320\n"
     ]
    }
   ],
   "source": [
    "image_files = [f for f in os.listdir(image_folder) if f.endswith('.jpg')]\n",
    "print(len(image_files))"
   ]
  },
  {
   "cell_type": "code",
   "execution_count": 6,
   "id": "07a4f34a",
   "metadata": {},
   "outputs": [
    {
     "name": "stdout",
     "output_type": "stream",
     "text": [
      "311\n"
     ]
    }
   ],
   "source": [
    "conf_array = []\n",
    "for image_file in image_files:\n",
    "    image_path = os.path.join(image_folder, image_file)\n",
    "    # Make prediction\n",
    "#     print(\"hey\")\n",
    "    output = model.predict(image_path, confidence=40, overlap=30).json()\n",
    "    predictions = output['predictions']\n",
    "    if predictions:\n",
    "        confid = predictions[0]['confidence']\n",
    "        conf_array.append(int(confid*100))\n",
    "print(len(conf_array))"
   ]
  },
  {
   "cell_type": "code",
   "execution_count": 7,
   "id": "721ac030",
   "metadata": {},
   "outputs": [
    {
     "name": "stdout",
     "output_type": "stream",
     "text": [
      "33\n"
     ]
    }
   ],
   "source": [
    "count = 0;\n",
    "for x in conf_array :\n",
    "    if x < 80 :\n",
    "        count =  count + 1\n",
    "print(count)"
   ]
  },
  {
   "cell_type": "code",
   "execution_count": 49,
   "id": "6b696e81",
   "metadata": {},
   "outputs": [
    {
     "data": {
      "image/png": "[encoded data removed]",
      "text/plain": [
       "<Figure size 640x480 with 1 Axes>"
      ]
     },
     "metadata": {},
     "output_type": "display_data"
    }
   ],
   "source": [
    "import matplotlib.pyplot as plt\n",
    "\n",
    "# Your array of values\n",
    "\n",
    "# Create a line graph\n",
    "plt.plot(conf_array)\n",
    "\n",
    "# Add labels and title\n",
    "plt.xlabel('images')\n",
    "plt.ylabel('Accuracy')\n",
    "# plt.title('Accuracy graph')\n",
    "\n",
    "# Display the graph\n",
    "plt.show()\n"
   ]
  },
  {
   "cell_type": "code",
   "execution_count": 33,
   "id": "76035698",
   "metadata": {},
   "outputs": [
    {
     "name": "stdout",
     "output_type": "stream",
     "text": [
      "[92, 93, 94, 97, 54]\n"
     ]
    }
   ],
   "source": [
    "print(conf_array[0:5])"
   ]
  },
  {
   "cell_type": "code",
   "execution_count": 10,
   "id": "9e05eb45",
   "metadata": {
    "scrolled": true
   },
   "outputs": [],
   "source": [
    "for image_file in image_files:\n",
    "    image_path = os.path.join(image_folder, image_file)\n",
    "    \n",
    "    # Make prediction\n",
    "    output = model.predict(image_path, confidence=40, overlap=30).json()\n",
    "    predictions = output['predictions']\n",
    "    #print(predictions)\n",
    "    if predictions:\n",
    "    # Extract values for xmin, ymin, xmax, and ymax from the first prediction (assuming there is only one prediction)\n",
    "        xmin = int(predictions[0]['x'])\n",
    "        ymin = int(predictions[0]['y'])\n",
    "        xmax = int(predictions[0]['x'] + predictions[0]['width'])\n",
    "        ymax = int(predictions[0]['y'] + predictions[0]['height'])\n",
    "        cls = predictions[0]['class']\n",
    "        results.append({\n",
    "            \"filename\": image_file,\n",
    "            \"width\" : predictions[0]['width'],\n",
    "            \"height\" : predictions[0]['height'],\n",
    "            \"classy\" : cls,\n",
    "            \"p_xmin\": xmin,\n",
    "            \"p_ymin\": ymin,\n",
    "            \"p_xmax\": xmax,\n",
    "            \"p_ymax\": ymax,\n",
    "        })"
   ]
  },
  {
   "cell_type": "code",
   "execution_count": 11,
   "id": "5da9b545",
   "metadata": {},
   "outputs": [],
   "source": [
    "df_results = pd.DataFrame(results)\n",
    "\n",
    "# Save DataFrame to a CSV file\n",
    "df_results.to_csv(\"predicted_annotations.csv\", index=False)"
   ]
  },
  {
   "cell_type": "code",
   "execution_count": 14,
   "id": "bef9ef41",
   "metadata": {},
   "outputs": [
    {
     "name": "stdout",
     "output_type": "stream",
     "text": [
      "Index(['filename', 'width', 'height', 'classy', 'p_xmin', 'p_ymin', 'p_xmax',\n",
      "       'p_ymax'],\n",
      "      dtype='object')\n",
      "                                            filename  width  height classy  \\\n",
      "0  image_24_jpg.rf.52b1cb8bdc49d79f9f30e69d22f4f1...  433.0   354.0   bolt   \n",
      "1  image_28_jpg.rf.ab946b6c22453a263ea90377c47035...  443.0   354.0   bolt   \n",
      "2  image_33_jpg.rf.bf377898fd9dfba7d0e05fa34e6861...  200.0   257.0    nat   \n",
      "3  image_49_jpg.rf.f19ae7991b555f96a1e211bd378b90...  579.0   546.0    nat   \n",
      "4  image_55_jpg.rf.de44ee6e7da868a7fa613b58e77eb5...  587.0   622.0   bolt   \n",
      "5  image_57_jpg.rf.caee4215899d5c580b1be1ce35f2c8...  158.0   192.0    nat   \n",
      "6  image_65_jpg.rf.b5971af29c3177b124a43852a1b696...  180.0   159.0    nat   \n",
      "7  image_67_jpg.rf.2b92dd378f679a6f7f70f682217656...  640.0   585.0   bolt   \n",
      "8  image_73_jpg.rf.42b199b9564243502b90eb81b76d26...  309.0   532.0   bolt   \n",
      "9  IMG_0433_jpg.rf.ace1b07ce0155b97d5aff832742d47...   79.0    86.0   bolt   \n",
      "\n",
      "   p_xmin  p_ymin  p_xmax  p_ymax  \n",
      "0     325     342     758     696  \n",
      "1     327     348     770     702  \n",
      "2     322     323     522     580  \n",
      "3     321     308     900     854  \n",
      "4     311     317     898     939  \n",
      "5     324     312     482     504  \n",
      "6     392     460     572     619  \n",
      "7     320     309     960     894  \n",
      "8     323     327     632     859  \n",
      "9     334     507     413     593  \n"
     ]
    }
   ],
   "source": [
    "print(df_results.columns)\n",
    "print(df_results.head(10))"
   ]
  },
  {
   "cell_type": "code",
   "execution_count": null,
   "id": "e8c6d724",
   "metadata": {},
   "outputs": [],
   "source": []
  },
  {
   "cell_type": "code",
   "execution_count": 15,
   "id": "69619bf5",
   "metadata": {},
   "outputs": [
    {
     "name": "stdout",
     "output_type": "stream",
     "text": [
      "Index(['filename', 'width_x', 'height_x', 'class', 'xmin', 'ymin', 'xmax',\n",
      "       'ymax', 'width_y', 'height_y', 'classy', 'p_xmin', 'p_ymin', 'p_xmax',\n",
      "       'p_ymax', 'iou'],\n",
      "      dtype='object')\n"
     ]
    }
   ],
   "source": [
    "print(merged_df.columns)\n"
   ]
  },
  {
   "cell_type": "code",
   "execution_count": 16,
   "id": "2e66e2fa",
   "metadata": {},
   "outputs": [],
   "source": [
    "merged_df.to_csv(\"newmerge.csv\", index=False)"
   ]
  },
  {
   "cell_type": "code",
   "execution_count": 21,
   "id": "b40803a0",
   "metadata": {},
   "outputs": [
    {
     "name": "stdout",
     "output_type": "stream",
     "text": [
      "Index(['filename', 'width', 'height', 'class', 'xmin', 'ymin', 'xmax', 'ymax'], dtype='object')\n",
      "Index(['filename', 'width', 'height', 'classy', 'p_xmin', 'p_ymin', 'p_xmax',\n",
      "       'p_ymax'],\n",
      "      dtype='object')\n",
      "Precision: 0.92\n",
      "Recall: 1.00\n"
     ]
    },
    {
     "data": {
      "image/png": "[encoded data removed]",
      "text/plain": [
       "<Figure size 640x480 with 1 Axes>"
      ]
     },
     "metadata": {},
     "output_type": "display_data"
    },
    {
     "name": "stdout",
     "output_type": "stream",
     "text": [
      "Average Precision (AP): 1.00\n"
     ]
    }
   ],
   "source": [
    "import pandas as pd\n",
    "from sklearn.metrics import precision_recall_curve, average_precision_score\n",
    "import matplotlib.pyplot as plt\n",
    "\n",
    "# Load actual results and predicted values CSV files\n",
    "actual_df = pd.read_csv(\"actual.csv\")  # Replace with the actual path\n",
    "predicted_df = pd.read_csv(\"predicted_annotations.csv\")  # Replace with the actual path\n",
    "print(actual_df.columns)\n",
    "print(predicted_df.columns)\n",
    "\n",
    "# Merge DataFrames based on the 'filename' column\n",
    "merged_df = pd.merge(actual_df, predicted_df, on='filename', how='inner')\n",
    "\n",
    "# Function to calculate Intersection over Union (IoU)\n",
    "def calculate_iou(row):\n",
    "    actual_box = [row['xmin'], row['ymin'], row['xmax'], row['ymax']]\n",
    "    predicted_box = [row['p_xmin'], row['p_ymin'], row['p_xmax'], row['p_ymax']]\n",
    "\n",
    "    # Calculate intersection and union\n",
    "    x_min = max(actual_box[0], predicted_box[0])\n",
    "    y_min = max(actual_box[1], predicted_box[1])\n",
    "    x_max = min(actual_box[2], predicted_box[2])\n",
    "    y_max = min(actual_box[3], predicted_box[3])\n",
    "\n",
    "    intersection_area = max(0, x_max - x_min + 1) * max(0, y_max - y_min + 1)\n",
    "    actual_area = (actual_box[2] - actual_box[0] + 1) * (actual_box[3] - actual_box[1] + 1)\n",
    "    predicted_area = (predicted_box[2] - predicted_box[0] + 1) * (predicted_box[3] - predicted_box[1] + 1)\n",
    "\n",
    "    union_area = actual_area + predicted_area - intersection_area\n",
    "\n",
    "    # Avoid division by zero\n",
    "    if union_area == 0:\n",
    "        return 0.0\n",
    "\n",
    "    # Calculate IoU\n",
    "    iou = intersection_area / union_area\n",
    "    return iou\n",
    "\n",
    "# Apply the IoU calculation function to each row\n",
    "merged_df['iou'] = merged_df.apply(calculate_iou, axis=1)\n",
    "\n",
    "# Drop rows with NaN values in the 'iou' column\n",
    "merged_df = merged_df.dropna(subset=['iou'])\n",
    "\n",
    "# Evaluate precision and recall using IoU threshold\n",
    "iou_threshold = 0.1\n",
    "positive_samples = len(merged_df) > 0\n",
    "true_positives = merged_df['iou'] > iou_threshold\n",
    "false_positives = ~true_positives\n",
    "\n",
    "# Calculate precision and recall only if there are positive samples\n",
    "if positive_samples:\n",
    "    precision, recall, thresholds = precision_recall_curve(true_positives, merged_df['iou'], pos_label=1)\n",
    "    average_precision = average_precision_score(true_positives, merged_df['iou'])\n",
    "    print(f\"Precision: {precision[1]:.2f}\")\n",
    "    print(f\"Recall: {recall[1]:.2f}\")\n",
    "    # Precision-Recall curve\n",
    "    plt.plot(recall, precision, label=f'AP = {average_precision:.2f}')\n",
    "    plt.xlabel('Recall')\n",
    "    plt.ylabel('Precision')\n",
    "    plt.title('Precision-Recall Curve')\n",
    "    plt.legend()\n",
    "    plt.show()\n",
    "# Print average precision\n",
    "    print(f\"Average Precision (AP): {average_precision:.2f}\")\n",
    "else:\n",
    "    print(\"No positive samples found.\")\n",
    "\n",
    "\n"
   ]
  },
  {
   "cell_type": "code",
   "execution_count": 57,
   "id": "94c8a0f2",
   "metadata": {},
   "outputs": [],
   "source": [
    "merged_df.to_csv(\"newmerge3.csv\", index=False)"
   ]
  },
  {
   "cell_type": "code",
   "execution_count": null,
   "id": "0ea721fe",
   "metadata": {},
   "outputs": [],
   "source": []
  }
 ],
 "metadata": {
  "kernelspec": {
   "display_name": "Python 3 (ipykernel)",
   "language": "python",
   "name": "python3"
  },
  "language_info": {
   "codemirror_mode": {
    "name": "ipython",
    "version": 3
   },
   "file_extension": ".py",
   "mimetype": "text/x-python",
   "name": "python",
   "nbconvert_exporter": "python",
   "pygments_lexer": "ipython3",
   "version": "3.10.9"
  }
 },
 "nbformat": 4,
 "nbformat_minor": 5
}

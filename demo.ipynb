{
 "cells": [
  {
   "cell_type": "code",
   "execution_count": 8,
   "id": "f45d06b0",
   "metadata": {},
   "outputs": [
    {
     "name": "stdout",
     "output_type": "stream",
     "text": [
      "loading Roboflow workspace...\n",
      "loading Roboflow project...\n",
      "{'predictions': [{'x': 320.0, 'y': 320.5, 'width': 502.0, 'height': 273.0, 'confidence': 0.9469457864761353, 'class': 'bolt', 'class_id': 0, 'image_path': 'myimg.jpg', 'prediction_type': 'ObjectDetectionModel'}], 'image': {'width': '640', 'height': '640'}}\n"
     ]
    }
   ],
   "source": [
    "from roboflow import Roboflow\n",
    "rf = Roboflow(api_key=\"dhOw3ym7s1Kivzengl6a\")\n",
    "project = rf.workspace().project(\"bolt-sgg5o\")\n",
    "model = project.version(4).model\n",
    "\n",
    "# infer on a local image\n",
    "print(model.predict(\"myimg.jpg\", confidence=40, overlap=30).json())\n",
    "\n",
    "# visualize your prediction\n",
    "model.predict(\"myimg.jpg\", confidence=40, overlap=30).save(\"prediction4.jpg\")\n",
    "\n",
    "# infer on an image hosted elsewhere\n",
    "# print(model.predict(\"URL_OF_YOUR_IMAGE\", hosted=True, confidence=40, overlap=30).json())"
   ]
  },
  {
   "cell_type": "code",
   "execution_count": 10,
   "id": "3553d84b",
   "metadata": {},
   "outputs": [
    {
     "ename": "AttributeError",
     "evalue": "'NoneType' object has no attribute 'encode'",
     "output_type": "error",
     "traceback": [
      "\u001b[1;31m---------------------------------------------------------------------------\u001b[0m",
      "\u001b[1;31mAttributeError\u001b[0m                            Traceback (most recent call last)",
      "Cell \u001b[1;32mIn[10], line 20\u001b[0m\n\u001b[0;32m     10\u001b[0m     cv2\u001b[38;5;241m.\u001b[39mimshow(\n\u001b[0;32m     11\u001b[0m         \u001b[38;5;124m\"\u001b[39m\u001b[38;5;124mPrediction\u001b[39m\u001b[38;5;124m\"\u001b[39m,\n\u001b[0;32m     12\u001b[0m         annotator\u001b[38;5;241m.\u001b[39mannotate(\n\u001b[1;32m   (...)\u001b[0m\n\u001b[0;32m     16\u001b[0m         )\n\u001b[0;32m     17\u001b[0m     ),\n\u001b[0;32m     18\u001b[0m     cv2\u001b[38;5;241m.\u001b[39mwaitKey(\u001b[38;5;241m1\u001b[39m)\n\u001b[1;32m---> 20\u001b[0m \u001b[43minference\u001b[49m\u001b[38;5;241;43m.\u001b[39;49m\u001b[43mStream\u001b[49m\u001b[43m(\u001b[49m\n\u001b[0;32m     21\u001b[0m \u001b[43m    \u001b[49m\u001b[43msource\u001b[49m\u001b[38;5;241;43m=\u001b[39;49m\u001b[38;5;124;43m\"\u001b[39;49m\u001b[38;5;124;43mwebcam\u001b[39;49m\u001b[38;5;124;43m\"\u001b[39;49m\u001b[43m,\u001b[49m\u001b[43m \u001b[49m\u001b[38;5;66;43;03m# or rtsp stream or camera id\u001b[39;49;00m\n\u001b[0;32m     22\u001b[0m \u001b[43m    \u001b[49m\u001b[43mmodel\u001b[49m\u001b[38;5;241;43m=\u001b[39;49m\u001b[38;5;124;43m\"\u001b[39;49m\u001b[38;5;124;43mbolt-sgg5o/4\u001b[39;49m\u001b[38;5;124;43m\"\u001b[39;49m\u001b[43m,\u001b[49m\u001b[43m \u001b[49m\u001b[38;5;66;43;03m# from Universe\u001b[39;49;00m\n\u001b[0;32m     23\u001b[0m \u001b[43m    \u001b[49m\u001b[43moutput_channel_order\u001b[49m\u001b[38;5;241;43m=\u001b[39;49m\u001b[38;5;124;43m\"\u001b[39;49m\u001b[38;5;124;43mBGR\u001b[39;49m\u001b[38;5;124;43m\"\u001b[39;49m\u001b[43m,\u001b[49m\n\u001b[0;32m     24\u001b[0m \u001b[43m    \u001b[49m\u001b[43muse_main_thread\u001b[49m\u001b[38;5;241;43m=\u001b[39;49m\u001b[38;5;28;43;01mTrue\u001b[39;49;00m\u001b[43m,\u001b[49m\u001b[43m \u001b[49m\u001b[38;5;66;43;03m# for opencv display\u001b[39;49;00m\n\u001b[0;32m     25\u001b[0m \u001b[43m    \u001b[49m\u001b[43mon_prediction\u001b[49m\u001b[38;5;241;43m=\u001b[39;49m\u001b[43mon_prediction\u001b[49m\u001b[43m,\u001b[49m\n\u001b[0;32m     26\u001b[0m \u001b[43m)\u001b[49m\n",
      "File \u001b[1;32m~\\AppData\\Roaming\\Python\\Python310\\site-packages\\inference\\core\\interfaces\\stream\\stream.py:109\u001b[0m, in \u001b[0;36mStream.__init__\u001b[1;34m(self, api_key, class_agnostic_nms, confidence, enforce_fps, iou_threshold, max_candidates, max_detections, model, source, use_bytetrack, use_main_thread, output_channel_order, on_prediction, on_start, on_stop)\u001b[0m\n\u001b[0;32m    106\u001b[0m     \u001b[38;5;28mself\u001b[39m\u001b[38;5;241m.\u001b[39mmodel \u001b[38;5;241m=\u001b[39m get_roboflow_model(model, \u001b[38;5;28mself\u001b[39m\u001b[38;5;241m.\u001b[39mapi_key)\n\u001b[0;32m    107\u001b[0m     \u001b[38;5;28;01mif\u001b[39;00m ACTIVE_LEARNING_ENABLED:\n\u001b[0;32m    108\u001b[0m         \u001b[38;5;28mself\u001b[39m\u001b[38;5;241m.\u001b[39mactive_learning_middleware \u001b[38;5;241m=\u001b[39m (\n\u001b[1;32m--> 109\u001b[0m             \u001b[43mThreadingActiveLearningMiddleware\u001b[49m\u001b[38;5;241;43m.\u001b[39;49m\u001b[43minit\u001b[49m\u001b[43m(\u001b[49m\n\u001b[0;32m    110\u001b[0m \u001b[43m                \u001b[49m\u001b[43mapi_key\u001b[49m\u001b[38;5;241;43m=\u001b[39;49m\u001b[38;5;28;43mself\u001b[39;49m\u001b[38;5;241;43m.\u001b[39;49m\u001b[43mapi_key\u001b[49m\u001b[43m,\u001b[49m\n\u001b[0;32m    111\u001b[0m \u001b[43m                \u001b[49m\u001b[43mmodel_id\u001b[49m\u001b[38;5;241;43m=\u001b[39;49m\u001b[38;5;28;43mself\u001b[39;49m\u001b[38;5;241;43m.\u001b[39;49m\u001b[43mmodel_id\u001b[49m\u001b[43m,\u001b[49m\n\u001b[0;32m    112\u001b[0m \u001b[43m                \u001b[49m\u001b[43mcache\u001b[49m\u001b[38;5;241;43m=\u001b[39;49m\u001b[43mcache\u001b[49m\u001b[43m,\u001b[49m\n\u001b[0;32m    113\u001b[0m \u001b[43m            \u001b[49m\u001b[43m)\u001b[49m\n\u001b[0;32m    114\u001b[0m         )\n\u001b[0;32m    115\u001b[0m     \u001b[38;5;28mself\u001b[39m\u001b[38;5;241m.\u001b[39mtask_type \u001b[38;5;241m=\u001b[39m get_model_type(\n\u001b[0;32m    116\u001b[0m         model_id\u001b[38;5;241m=\u001b[39m\u001b[38;5;28mself\u001b[39m\u001b[38;5;241m.\u001b[39mmodel_id, api_key\u001b[38;5;241m=\u001b[39m\u001b[38;5;28mself\u001b[39m\u001b[38;5;241m.\u001b[39mapi_key\n\u001b[0;32m    117\u001b[0m     )[\u001b[38;5;241m0\u001b[39m]\n\u001b[0;32m    118\u001b[0m \u001b[38;5;28;01melse\u001b[39;00m:\n",
      "File \u001b[1;32m~\\AppData\\Roaming\\Python\\Python310\\site-packages\\inference\\core\\active_learning\\middlewares.py:168\u001b[0m, in \u001b[0;36mThreadingActiveLearningMiddleware.init\u001b[1;34m(cls, api_key, model_id, cache, max_queue_size)\u001b[0m\n\u001b[0;32m    160\u001b[0m \u001b[38;5;129m@classmethod\u001b[39m\n\u001b[0;32m    161\u001b[0m \u001b[38;5;28;01mdef\u001b[39;00m \u001b[38;5;21minit\u001b[39m(\n\u001b[0;32m    162\u001b[0m     \u001b[38;5;28mcls\u001b[39m,\n\u001b[1;32m   (...)\u001b[0m\n\u001b[0;32m    166\u001b[0m     max_queue_size: \u001b[38;5;28mint\u001b[39m \u001b[38;5;241m=\u001b[39m MAX_REGISTRATION_QUEUE_SIZE,\n\u001b[0;32m    167\u001b[0m ) \u001b[38;5;241m-\u001b[39m\u001b[38;5;241m>\u001b[39m \u001b[38;5;124m\"\u001b[39m\u001b[38;5;124mThreadingActiveLearningMiddleware\u001b[39m\u001b[38;5;124m\"\u001b[39m:\n\u001b[1;32m--> 168\u001b[0m     configuration \u001b[38;5;241m=\u001b[39m \u001b[43mprepare_active_learning_configuration\u001b[49m\u001b[43m(\u001b[49m\n\u001b[0;32m    169\u001b[0m \u001b[43m        \u001b[49m\u001b[43mapi_key\u001b[49m\u001b[38;5;241;43m=\u001b[39;49m\u001b[43mapi_key\u001b[49m\u001b[43m,\u001b[49m\n\u001b[0;32m    170\u001b[0m \u001b[43m        \u001b[49m\u001b[43mmodel_id\u001b[49m\u001b[38;5;241;43m=\u001b[39;49m\u001b[43mmodel_id\u001b[49m\u001b[43m,\u001b[49m\n\u001b[0;32m    171\u001b[0m \u001b[43m        \u001b[49m\u001b[43mcache\u001b[49m\u001b[38;5;241;43m=\u001b[39;49m\u001b[43mcache\u001b[49m\u001b[43m,\u001b[49m\n\u001b[0;32m    172\u001b[0m \u001b[43m    \u001b[49m\u001b[43m)\u001b[49m\n\u001b[0;32m    173\u001b[0m     task_queue \u001b[38;5;241m=\u001b[39m Queue(max_queue_size)\n\u001b[0;32m    174\u001b[0m     \u001b[38;5;28;01mreturn\u001b[39;00m \u001b[38;5;28mcls\u001b[39m(\n\u001b[0;32m    175\u001b[0m         api_key\u001b[38;5;241m=\u001b[39mapi_key,\n\u001b[0;32m    176\u001b[0m         configuration\u001b[38;5;241m=\u001b[39mconfiguration,\n\u001b[0;32m    177\u001b[0m         cache\u001b[38;5;241m=\u001b[39mcache,\n\u001b[0;32m    178\u001b[0m         task_queue\u001b[38;5;241m=\u001b[39mtask_queue,\n\u001b[0;32m    179\u001b[0m     )\n",
      "File \u001b[1;32m~\\AppData\\Roaming\\Python\\Python310\\site-packages\\inference\\core\\active_learning\\configuration.py:49\u001b[0m, in \u001b[0;36mprepare_active_learning_configuration\u001b[1;34m(api_key, model_id, cache)\u001b[0m\n\u001b[0;32m     44\u001b[0m \u001b[38;5;28;01mdef\u001b[39;00m \u001b[38;5;21mprepare_active_learning_configuration\u001b[39m(\n\u001b[0;32m     45\u001b[0m     api_key: \u001b[38;5;28mstr\u001b[39m,\n\u001b[0;32m     46\u001b[0m     model_id: \u001b[38;5;28mstr\u001b[39m,\n\u001b[0;32m     47\u001b[0m     cache: BaseCache,\n\u001b[0;32m     48\u001b[0m ) \u001b[38;5;241m-\u001b[39m\u001b[38;5;241m>\u001b[39m Optional[ActiveLearningConfiguration]:\n\u001b[1;32m---> 49\u001b[0m     project_metadata \u001b[38;5;241m=\u001b[39m \u001b[43mget_roboflow_project_metadata\u001b[49m\u001b[43m(\u001b[49m\n\u001b[0;32m     50\u001b[0m \u001b[43m        \u001b[49m\u001b[43mapi_key\u001b[49m\u001b[38;5;241;43m=\u001b[39;49m\u001b[43mapi_key\u001b[49m\u001b[43m,\u001b[49m\n\u001b[0;32m     51\u001b[0m \u001b[43m        \u001b[49m\u001b[43mmodel_id\u001b[49m\u001b[38;5;241;43m=\u001b[39;49m\u001b[43mmodel_id\u001b[49m\u001b[43m,\u001b[49m\n\u001b[0;32m     52\u001b[0m \u001b[43m        \u001b[49m\u001b[43mcache\u001b[49m\u001b[38;5;241;43m=\u001b[39;49m\u001b[43mcache\u001b[49m\u001b[43m,\u001b[49m\n\u001b[0;32m     53\u001b[0m \u001b[43m    \u001b[49m\u001b[43m)\u001b[49m\n\u001b[0;32m     54\u001b[0m     \u001b[38;5;28;01mif\u001b[39;00m \u001b[38;5;129;01mnot\u001b[39;00m project_metadata\u001b[38;5;241m.\u001b[39mactive_learning_configuration\u001b[38;5;241m.\u001b[39mget(\u001b[38;5;124m\"\u001b[39m\u001b[38;5;124menabled\u001b[39m\u001b[38;5;124m\"\u001b[39m, \u001b[38;5;28;01mFalse\u001b[39;00m):\n\u001b[0;32m     55\u001b[0m         \u001b[38;5;28;01mreturn\u001b[39;00m \u001b[38;5;28;01mNone\u001b[39;00m\n",
      "File \u001b[1;32m~\\AppData\\Roaming\\Python\\Python310\\site-packages\\inference\\core\\active_learning\\configuration.py:87\u001b[0m, in \u001b[0;36mget_roboflow_project_metadata\u001b[1;34m(api_key, model_id, cache)\u001b[0m\n\u001b[0;32m     81\u001b[0m \u001b[38;5;28;01mdef\u001b[39;00m \u001b[38;5;21mget_roboflow_project_metadata\u001b[39m(\n\u001b[0;32m     82\u001b[0m     api_key: \u001b[38;5;28mstr\u001b[39m,\n\u001b[0;32m     83\u001b[0m     model_id: \u001b[38;5;28mstr\u001b[39m,\n\u001b[0;32m     84\u001b[0m     cache: BaseCache,\n\u001b[0;32m     85\u001b[0m ) \u001b[38;5;241m-\u001b[39m\u001b[38;5;241m>\u001b[39m RoboflowProjectMetadata:\n\u001b[0;32m     86\u001b[0m     logger\u001b[38;5;241m.\u001b[39minfo(\u001b[38;5;124mf\u001b[39m\u001b[38;5;124m\"\u001b[39m\u001b[38;5;124mFetching active learning configuration.\u001b[39m\u001b[38;5;124m\"\u001b[39m)\n\u001b[1;32m---> 87\u001b[0m     config_cache_key \u001b[38;5;241m=\u001b[39m \u001b[43mconstruct_cache_key_for_active_learning_config\u001b[49m\u001b[43m(\u001b[49m\n\u001b[0;32m     88\u001b[0m \u001b[43m        \u001b[49m\u001b[43mapi_key\u001b[49m\u001b[38;5;241;43m=\u001b[39;49m\u001b[43mapi_key\u001b[49m\u001b[43m,\u001b[49m\u001b[43m \u001b[49m\u001b[43mmodel_id\u001b[49m\u001b[38;5;241;43m=\u001b[39;49m\u001b[43mmodel_id\u001b[49m\n\u001b[0;32m     89\u001b[0m \u001b[43m    \u001b[49m\u001b[43m)\u001b[49m\n\u001b[0;32m     90\u001b[0m     cached_config \u001b[38;5;241m=\u001b[39m cache\u001b[38;5;241m.\u001b[39mget(config_cache_key)\n\u001b[0;32m     91\u001b[0m     \u001b[38;5;28;01mif\u001b[39;00m cached_config \u001b[38;5;129;01mis\u001b[39;00m \u001b[38;5;129;01mnot\u001b[39;00m \u001b[38;5;28;01mNone\u001b[39;00m:\n",
      "File \u001b[1;32m~\\AppData\\Roaming\\Python\\Python310\\site-packages\\inference\\core\\active_learning\\configuration.py:133\u001b[0m, in \u001b[0;36mconstruct_cache_key_for_active_learning_config\u001b[1;34m(api_key, model_id)\u001b[0m\n\u001b[0;32m    131\u001b[0m \u001b[38;5;28;01mdef\u001b[39;00m \u001b[38;5;21mconstruct_cache_key_for_active_learning_config\u001b[39m(api_key: \u001b[38;5;28mstr\u001b[39m, model_id: \u001b[38;5;28mstr\u001b[39m) \u001b[38;5;241m-\u001b[39m\u001b[38;5;241m>\u001b[39m \u001b[38;5;28mstr\u001b[39m:\n\u001b[0;32m    132\u001b[0m     dataset_id \u001b[38;5;241m=\u001b[39m model_id\u001b[38;5;241m.\u001b[39msplit(\u001b[38;5;124m\"\u001b[39m\u001b[38;5;124m/\u001b[39m\u001b[38;5;124m\"\u001b[39m)[\u001b[38;5;241m0\u001b[39m]\n\u001b[1;32m--> 133\u001b[0m     api_key_hash \u001b[38;5;241m=\u001b[39m hashlib\u001b[38;5;241m.\u001b[39mmd5(\u001b[43mapi_key\u001b[49m\u001b[38;5;241;43m.\u001b[39;49m\u001b[43mencode\u001b[49m(\u001b[38;5;124m\"\u001b[39m\u001b[38;5;124mutf-8\u001b[39m\u001b[38;5;124m\"\u001b[39m))\u001b[38;5;241m.\u001b[39mhexdigest()\n\u001b[0;32m    134\u001b[0m     \u001b[38;5;28;01mreturn\u001b[39;00m \u001b[38;5;124mf\u001b[39m\u001b[38;5;124m\"\u001b[39m\u001b[38;5;124mactive_learning:configurations:\u001b[39m\u001b[38;5;132;01m{\u001b[39;00mapi_key_hash\u001b[38;5;132;01m}\u001b[39;00m\u001b[38;5;124m:\u001b[39m\u001b[38;5;132;01m{\u001b[39;00mdataset_id\u001b[38;5;132;01m}\u001b[39;00m\u001b[38;5;124m\"\u001b[39m\n",
      "\u001b[1;31mAttributeError\u001b[0m: 'NoneType' object has no attribute 'encode'"
     ]
    }
   ],
   "source": [
    "import cv2\n",
    "import inference\n",
    "import supervision as sv\n",
    "\n",
    "annotator = sv.BoxAnnotator()\n",
    "\n",
    "def on_prediction(predictions, image):\n",
    "    labels = [p[\"class\"] for p in predictions[\"predictions\"]]\n",
    "    detections = sv.Detections.from_roboflow(predictions)\n",
    "    cv2.imshow(\n",
    "        \"Prediction\",\n",
    "        annotator.annotate(\n",
    "            scene=image,\n",
    "            detections=detections,\n",
    "            labels=labels\n",
    "        )\n",
    "    ),\n",
    "    cv2.waitKey(1)\n",
    "\n",
    "inference.Stream(\n",
    "    source=\"webcam\", # or rtsp stream or camera id\n",
    "    model=\"bolt-sgg5o/4\", # from Universe\n",
    "    output_channel_order=\"BGR\",\n",
    "    use_main_thread=True, # for opencv display\n",
    "    on_prediction=on_prediction,\n",
    ")"
   ]
  },
  {
   "cell_type": "code",
   "execution_count": 1,
   "id": "02740647",
   "metadata": {},
   "outputs": [
    {
     "name": "stdout",
     "output_type": "stream",
     "text": [
      "Defaulting to user installation because normal site-packages is not writeable\n",
      "Requirement already satisfied: inference in c:\\users\\hp\\appdata\\roaming\\python\\python310\\site-packages (0.9.8)\n",
      "Requirement already satisfied: setuptools>=65.5.1 in c:\\programdata\\anaconda3\\lib\\site-packages (from inference) (65.6.3)\n",
      "Requirement already satisfied: wheel>=0.38.1 in c:\\programdata\\anaconda3\\lib\\site-packages (from inference) (0.38.4)\n",
      "Requirement already satisfied: shapely<=2.0.1 in c:\\users\\hp\\appdata\\roaming\\python\\python310\\site-packages (from inference) (2.0.1)\n",
      "Requirement already satisfied: scikit-image>=0.19.0 in c:\\programdata\\anaconda3\\lib\\site-packages (from inference) (0.19.3)\n",
      "Requirement already satisfied: python-dotenv<=2.0.0 in c:\\users\\hp\\appdata\\roaming\\python\\python310\\site-packages (from inference) (1.0.0)\n",
      "Requirement already satisfied: piexif<=1.1.3 in c:\\users\\hp\\appdata\\roaming\\python\\python310\\site-packages (from inference) (1.1.3)\n",
      "Requirement already satisfied: rich<=13.5.2 in c:\\users\\hp\\appdata\\roaming\\python\\python310\\site-packages (from inference) (13.5.2)\n",
      "Requirement already satisfied: requests<=2.31.0 in c:\\programdata\\anaconda3\\lib\\site-packages (from inference) (2.28.1)\n",
      "Requirement already satisfied: typer==0.9.0 in c:\\users\\hp\\appdata\\roaming\\python\\python310\\site-packages (from inference) (0.9.0)\n",
      "Requirement already satisfied: cython<=3.0.0 in c:\\users\\hp\\appdata\\roaming\\python\\python310\\site-packages (from inference) (3.0.0)\n",
      "Requirement already satisfied: opencv-python<=4.8.0.76 in c:\\users\\hp\\appdata\\roaming\\python\\python310\\site-packages (from inference) (4.8.0.76)\n",
      "Requirement already satisfied: prometheus-fastapi-instrumentator<=6.0.0 in c:\\users\\hp\\appdata\\roaming\\python\\python310\\site-packages (from inference) (6.0.0)\n",
      "Requirement already satisfied: requests-toolbelt>=1.0.0 in c:\\users\\hp\\appdata\\roaming\\python\\python310\\site-packages (from inference) (1.0.0)\n",
      "Requirement already satisfied: numpy<=1.25.2 in c:\\programdata\\anaconda3\\lib\\site-packages (from inference) (1.23.5)\n",
      "Requirement already satisfied: pybase64<2.0.0 in c:\\users\\hp\\appdata\\roaming\\python\\python310\\site-packages (from inference) (1.3.2)\n",
      "Requirement already satisfied: supervision<1.0.0 in c:\\programdata\\anaconda3\\lib\\site-packages (from inference) (0.17.1)\n",
      "Requirement already satisfied: pillow<11.0 in c:\\programdata\\anaconda3\\lib\\site-packages (from inference) (9.4.0)\n",
      "Requirement already satisfied: redis<6.0.0 in c:\\users\\hp\\appdata\\roaming\\python\\python310\\site-packages (from inference) (5.0.1)\n",
      "Requirement already satisfied: GPUtil==1.4.0 in c:\\users\\hp\\appdata\\roaming\\python\\python310\\site-packages (from inference) (1.4.0)\n",
      "Requirement already satisfied: docker==6.1.3 in c:\\users\\hp\\appdata\\roaming\\python\\python310\\site-packages (from inference) (6.1.3)\n",
      "Requirement already satisfied: pytest-asyncio<=0.21.1 in c:\\users\\hp\\appdata\\roaming\\python\\python310\\site-packages (from inference) (0.21.1)\n",
      "Requirement already satisfied: onnxruntime<=1.15.1 in c:\\users\\hp\\appdata\\roaming\\python\\python310\\site-packages (from inference) (1.15.1)\n",
      "Requirement already satisfied: APScheduler<=3.10.1 in c:\\users\\hp\\appdata\\roaming\\python\\python310\\site-packages (from inference) (3.10.1)\n",
      "Requirement already satisfied: fastapi<=0.96 in c:\\users\\hp\\appdata\\roaming\\python\\python310\\site-packages (from inference) (0.96.0)\n",
      "Requirement already satisfied: packaging>=14.0 in c:\\programdata\\anaconda3\\lib\\site-packages (from docker==6.1.3->inference) (22.0)\n",
      "Requirement already satisfied: urllib3>=1.26.0 in c:\\programdata\\anaconda3\\lib\\site-packages (from docker==6.1.3->inference) (1.26.14)\n",
      "Requirement already satisfied: websocket-client>=0.32.0 in c:\\programdata\\anaconda3\\lib\\site-packages (from docker==6.1.3->inference) (0.58.0)\n",
      "Requirement already satisfied: pywin32>=304 in c:\\programdata\\anaconda3\\lib\\site-packages (from docker==6.1.3->inference) (305.1)\n",
      "Requirement already satisfied: click<9.0.0,>=7.1.1 in c:\\programdata\\anaconda3\\lib\\site-packages (from typer==0.9.0->inference) (8.0.4)\n",
      "Requirement already satisfied: typing-extensions>=3.7.4.3 in c:\\programdata\\anaconda3\\lib\\site-packages (from typer==0.9.0->inference) (4.4.0)\n",
      "Requirement already satisfied: six>=1.4.0 in c:\\programdata\\anaconda3\\lib\\site-packages (from APScheduler<=3.10.1->inference) (1.16.0)\n",
      "Requirement already satisfied: tzlocal!=3.*,>=2.0 in c:\\users\\hp\\appdata\\roaming\\python\\python310\\site-packages (from APScheduler<=3.10.1->inference) (5.2)\n",
      "Requirement already satisfied: pytz in c:\\programdata\\anaconda3\\lib\\site-packages (from APScheduler<=3.10.1->inference) (2022.7)\n",
      "Requirement already satisfied: starlette<0.28.0,>=0.27.0 in c:\\users\\hp\\appdata\\roaming\\python\\python310\\site-packages (from fastapi<=0.96->inference) (0.27.0)\n",
      "Requirement already satisfied: pydantic!=1.7,!=1.7.1,!=1.7.2,!=1.7.3,!=1.8,!=1.8.1,<2.0.0,>=1.6.2 in c:\\users\\hp\\appdata\\roaming\\python\\python310\\site-packages (from fastapi<=0.96->inference) (1.10.13)\n",
      "Requirement already satisfied: coloredlogs in c:\\users\\hp\\appdata\\roaming\\python\\python310\\site-packages (from onnxruntime<=1.15.1->inference) (15.0.1)\n",
      "Requirement already satisfied: sympy in c:\\programdata\\anaconda3\\lib\\site-packages (from onnxruntime<=1.15.1->inference) (1.11.1)\n",
      "Requirement already satisfied: flatbuffers in c:\\users\\hp\\appdata\\roaming\\python\\python310\\site-packages (from onnxruntime<=1.15.1->inference) (23.5.26)\n",
      "Requirement already satisfied: protobuf in c:\\users\\hp\\appdata\\roaming\\python\\python310\\site-packages (from onnxruntime<=1.15.1->inference) (4.25.1)\n",
      "Requirement already satisfied: prometheus-client<1.0.0,>=0.8.0 in c:\\programdata\\anaconda3\\lib\\site-packages (from prometheus-fastapi-instrumentator<=6.0.0->inference) (0.14.1)\n",
      "Requirement already satisfied: pytest>=7.0.0 in c:\\programdata\\anaconda3\\lib\\site-packages (from pytest-asyncio<=0.21.1->inference) (7.1.2)\n",
      "Requirement already satisfied: async-timeout>=4.0.2 in c:\\users\\hp\\appdata\\roaming\\python\\python310\\site-packages (from redis<6.0.0->inference) (4.0.3)\n",
      "Requirement already satisfied: charset-normalizer<3,>=2 in c:\\programdata\\anaconda3\\lib\\site-packages (from requests<=2.31.0->inference) (2.0.4)\n",
      "Requirement already satisfied: certifi>=2017.4.17 in c:\\programdata\\anaconda3\\lib\\site-packages (from requests<=2.31.0->inference) (2023.7.22)\n",
      "Requirement already satisfied: idna<4,>=2.5 in c:\\programdata\\anaconda3\\lib\\site-packages (from requests<=2.31.0->inference) (2.10)\n",
      "Requirement already satisfied: pygments<3.0.0,>=2.13.0 in c:\\users\\hp\\appdata\\roaming\\python\\python310\\site-packages (from rich<=13.5.2->inference) (2.17.2)\n",
      "Requirement already satisfied: markdown-it-py>=2.2.0 in c:\\users\\hp\\appdata\\roaming\\python\\python310\\site-packages (from rich<=13.5.2->inference) (3.0.0)\n",
      "Requirement already satisfied: PyWavelets>=1.1.1 in c:\\programdata\\anaconda3\\lib\\site-packages (from scikit-image>=0.19.0->inference) (1.4.1)\n",
      "Requirement already satisfied: networkx>=2.2 in c:\\programdata\\anaconda3\\lib\\site-packages (from scikit-image>=0.19.0->inference) (2.8.4)\n",
      "Requirement already satisfied: imageio>=2.4.1 in c:\\programdata\\anaconda3\\lib\\site-packages (from scikit-image>=0.19.0->inference) (2.26.0)\n",
      "Requirement already satisfied: scipy>=1.4.1 in c:\\programdata\\anaconda3\\lib\\site-packages (from scikit-image>=0.19.0->inference) (1.10.0)\n",
      "Requirement already satisfied: tifffile>=2019.7.26 in c:\\programdata\\anaconda3\\lib\\site-packages (from scikit-image>=0.19.0->inference) (2021.7.2)\n",
      "Requirement already satisfied: matplotlib>=3.5.0 in c:\\programdata\\anaconda3\\lib\\site-packages (from supervision<1.0.0->inference) (3.7.0)\n",
      "Requirement already satisfied: opencv-python-headless<=4.8.1.78,>=4.5.5.64 in c:\\programdata\\anaconda3\\lib\\site-packages (from supervision<1.0.0->inference) (4.8.0.74)\n",
      "Requirement already satisfied: pyyaml>=5.3 in c:\\programdata\\anaconda3\\lib\\site-packages (from supervision<1.0.0->inference) (6.0)\n",
      "Requirement already satisfied: colorama in c:\\programdata\\anaconda3\\lib\\site-packages (from click<9.0.0,>=7.1.1->typer==0.9.0->inference) (0.4.6)\n",
      "Requirement already satisfied: mdurl~=0.1 in c:\\users\\hp\\appdata\\roaming\\python\\python310\\site-packages (from markdown-it-py>=2.2.0->rich<=13.5.2->inference) (0.1.2)\n",
      "Requirement already satisfied: contourpy>=1.0.1 in c:\\programdata\\anaconda3\\lib\\site-packages (from matplotlib>=3.5.0->supervision<1.0.0->inference) (1.0.5)\n",
      "Requirement already satisfied: fonttools>=4.22.0 in c:\\programdata\\anaconda3\\lib\\site-packages (from matplotlib>=3.5.0->supervision<1.0.0->inference) (4.25.0)\n",
      "Requirement already satisfied: cycler>=0.10 in c:\\programdata\\anaconda3\\lib\\site-packages (from matplotlib>=3.5.0->supervision<1.0.0->inference) (0.10.0)\n",
      "Requirement already satisfied: python-dateutil>=2.7 in c:\\programdata\\anaconda3\\lib\\site-packages (from matplotlib>=3.5.0->supervision<1.0.0->inference) (2.8.2)\n",
      "Requirement already satisfied: kiwisolver>=1.0.1 in c:\\programdata\\anaconda3\\lib\\site-packages (from matplotlib>=3.5.0->supervision<1.0.0->inference) (1.4.4)\n",
      "Requirement already satisfied: pyparsing>=2.3.1 in c:\\users\\hp\\appdata\\roaming\\python\\python310\\site-packages (from matplotlib>=3.5.0->supervision<1.0.0->inference) (2.4.7)\n",
      "Requirement already satisfied: attrs>=19.2.0 in c:\\programdata\\anaconda3\\lib\\site-packages (from pytest>=7.0.0->pytest-asyncio<=0.21.1->inference) (22.1.0)\n",
      "Requirement already satisfied: iniconfig in c:\\programdata\\anaconda3\\lib\\site-packages (from pytest>=7.0.0->pytest-asyncio<=0.21.1->inference) (1.1.1)\n",
      "Requirement already satisfied: pluggy<2.0,>=0.12 in c:\\programdata\\anaconda3\\lib\\site-packages (from pytest>=7.0.0->pytest-asyncio<=0.21.1->inference) (1.0.0)\n",
      "Requirement already satisfied: py>=1.8.2 in c:\\programdata\\anaconda3\\lib\\site-packages (from pytest>=7.0.0->pytest-asyncio<=0.21.1->inference) (1.11.0)\n",
      "Requirement already satisfied: tomli>=1.0.0 in c:\\programdata\\anaconda3\\lib\\site-packages (from pytest>=7.0.0->pytest-asyncio<=0.21.1->inference) (2.0.1)\n",
      "Requirement already satisfied: atomicwrites>=1.0 in c:\\programdata\\anaconda3\\lib\\site-packages (from pytest>=7.0.0->pytest-asyncio<=0.21.1->inference) (1.4.0)\n",
      "Requirement already satisfied: anyio<5,>=3.4.0 in c:\\programdata\\anaconda3\\lib\\site-packages (from starlette<0.28.0,>=0.27.0->fastapi<=0.96->inference) (3.5.0)\n",
      "Requirement already satisfied: tzdata in c:\\users\\hp\\appdata\\roaming\\python\\python310\\site-packages (from tzlocal!=3.*,>=2.0->APScheduler<=3.10.1->inference) (2023.4)\n",
      "Requirement already satisfied: humanfriendly>=9.1 in c:\\users\\hp\\appdata\\roaming\\python\\python310\\site-packages (from coloredlogs->onnxruntime<=1.15.1->inference) (10.0)\n",
      "Requirement already satisfied: mpmath>=0.19 in c:\\programdata\\anaconda3\\lib\\site-packages (from sympy->onnxruntime<=1.15.1->inference) (1.2.1)\n",
      "Requirement already satisfied: sniffio>=1.1 in c:\\programdata\\anaconda3\\lib\\site-packages (from anyio<5,>=3.4.0->starlette<0.28.0,>=0.27.0->fastapi<=0.96->inference) (1.2.0)\n",
      "Requirement already satisfied: pyreadline3 in c:\\users\\hp\\appdata\\roaming\\python\\python310\\site-packages (from humanfriendly>=9.1->coloredlogs->onnxruntime<=1.15.1->inference) (3.4.1)\n"
     ]
    },
    {
     "name": "stderr",
     "output_type": "stream",
     "text": [
      "WARNING: Ignoring invalid distribution -pencv-python (c:\\users\\hp\\appdata\\roaming\\python\\python310\\site-packages)\n",
      "WARNING: Ignoring invalid distribution -pencv-python (c:\\users\\hp\\appdata\\roaming\\python\\python310\\site-packages)\n",
      "WARNING: Ignoring invalid distribution -pencv-python (c:\\users\\hp\\appdata\\roaming\\python\\python310\\site-packages)\n",
      "WARNING: Ignoring invalid distribution -pencv-python (c:\\users\\hp\\appdata\\roaming\\python\\python310\\site-packages)\n",
      "WARNING: Ignoring invalid distribution -pencv-python (c:\\users\\hp\\appdata\\roaming\\python\\python310\\site-packages)\n",
      "WARNING: Ignoring invalid distribution -pencv-python (c:\\users\\hp\\appdata\\roaming\\python\\python310\\site-packages)\n"
     ]
    }
   ],
   "source": [
    "!pip install inference"
   ]
  },
  {
   "cell_type": "code",
   "execution_count": 3,
   "id": "4adbc809",
   "metadata": {},
   "outputs": [
    {
     "name": "stdout",
     "output_type": "stream",
     "text": [
      "Defaulting to user installation because normal site-packages is not writeable\n",
      "Requirement already satisfied: inference in c:\\users\\hp\\appdata\\roaming\\python\\python310\\site-packages (0.9.8)\n",
      "Requirement already satisfied: requests>=2.26.0 in c:\\programdata\\anaconda3\\lib\\site-packages (from inference) (2.28.1)\n",
      "Requirement already satisfied: scikit-image>=0.19.0 in c:\\programdata\\anaconda3\\lib\\site-packages (from inference) (0.19.3)\n",
      "Requirement already satisfied: pytest-asyncio<=0.21.1 in c:\\users\\hp\\appdata\\roaming\\python\\python310\\site-packages (from inference) (0.21.1)\n",
      "Requirement already satisfied: shapely<=2.0.1 in c:\\users\\hp\\appdata\\roaming\\python\\python310\\site-packages (from inference) (2.0.1)\n",
      "Requirement already satisfied: piexif<=1.1.3 in c:\\users\\hp\\appdata\\roaming\\python\\python310\\site-packages (from inference) (1.1.3)\n",
      "Requirement already satisfied: cython<=3.0.0 in c:\\users\\hp\\appdata\\roaming\\python\\python310\\site-packages (from inference) (3.0.0)\n",
      "Requirement already satisfied: numpy<=1.25.2 in c:\\programdata\\anaconda3\\lib\\site-packages (from inference) (1.23.5)\n",
      "Requirement already satisfied: pybase64<2.0.0 in c:\\users\\hp\\appdata\\roaming\\python\\python310\\site-packages (from inference) (1.3.2)\n",
      "Requirement already satisfied: GPUtil==1.4.0 in c:\\users\\hp\\appdata\\roaming\\python\\python310\\site-packages (from inference) (1.4.0)\n",
      "Requirement already satisfied: opencv-python<=4.8.0.76 in c:\\users\\hp\\appdata\\roaming\\python\\python310\\site-packages (from inference) (4.8.0.76)\n",
      "Requirement already satisfied: onnxruntime<=1.15.1 in c:\\users\\hp\\appdata\\roaming\\python\\python310\\site-packages (from inference) (1.15.1)\n",
      "Requirement already satisfied: prometheus-fastapi-instrumentator<=6.0.0 in c:\\users\\hp\\appdata\\roaming\\python\\python310\\site-packages (from inference) (6.0.0)\n",
      "Requirement already satisfied: redis<6.0.0 in c:\\users\\hp\\appdata\\roaming\\python\\python310\\site-packages (from inference) (5.0.1)\n",
      "Requirement already satisfied: wheel>=0.38.1 in c:\\programdata\\anaconda3\\lib\\site-packages (from inference) (0.38.4)\n",
      "Requirement already satisfied: setuptools>=65.5.1 in c:\\programdata\\anaconda3\\lib\\site-packages (from inference) (65.6.3)\n",
      "Requirement already satisfied: pillow<11.0 in c:\\programdata\\anaconda3\\lib\\site-packages (from inference) (9.4.0)\n",
      "Requirement already satisfied: docker==6.1.3 in c:\\users\\hp\\appdata\\roaming\\python\\python310\\site-packages (from inference) (6.1.3)\n",
      "Requirement already satisfied: rich<=13.5.2 in c:\\users\\hp\\appdata\\roaming\\python\\python310\\site-packages (from inference) (13.5.2)\n",
      "Requirement already satisfied: fastapi<=0.96 in c:\\users\\hp\\appdata\\roaming\\python\\python310\\site-packages (from inference) (0.96.0)\n",
      "Requirement already satisfied: supervision<1.0.0 in c:\\programdata\\anaconda3\\lib\\site-packages (from inference) (0.17.1)\n",
      "Requirement already satisfied: requests-toolbelt>=1.0.0 in c:\\users\\hp\\appdata\\roaming\\python\\python310\\site-packages (from inference) (1.0.0)\n",
      "Requirement already satisfied: typer==0.9.0 in c:\\users\\hp\\appdata\\roaming\\python\\python310\\site-packages (from inference) (0.9.0)\n",
      "Requirement already satisfied: python-dotenv<=2.0.0 in c:\\users\\hp\\appdata\\roaming\\python\\python310\\site-packages (from inference) (1.0.0)\n",
      "Requirement already satisfied: APScheduler<=3.10.1 in c:\\users\\hp\\appdata\\roaming\\python\\python310\\site-packages (from inference) (3.10.1)\n",
      "Requirement already satisfied: packaging>=14.0 in c:\\programdata\\anaconda3\\lib\\site-packages (from docker==6.1.3->inference) (22.0)\n",
      "Requirement already satisfied: websocket-client>=0.32.0 in c:\\programdata\\anaconda3\\lib\\site-packages (from docker==6.1.3->inference) (0.58.0)\n",
      "Requirement already satisfied: pywin32>=304 in c:\\programdata\\anaconda3\\lib\\site-packages (from docker==6.1.3->inference) (305.1)\n",
      "Requirement already satisfied: urllib3>=1.26.0 in c:\\programdata\\anaconda3\\lib\\site-packages (from docker==6.1.3->inference) (1.26.14)\n",
      "Requirement already satisfied: click<9.0.0,>=7.1.1 in c:\\programdata\\anaconda3\\lib\\site-packages (from typer==0.9.0->inference) (8.0.4)\n",
      "Requirement already satisfied: typing-extensions>=3.7.4.3 in c:\\programdata\\anaconda3\\lib\\site-packages (from typer==0.9.0->inference) (4.4.0)\n",
      "Requirement already satisfied: six>=1.4.0 in c:\\programdata\\anaconda3\\lib\\site-packages (from APScheduler<=3.10.1->inference) (1.16.0)\n",
      "Requirement already satisfied: pytz in c:\\programdata\\anaconda3\\lib\\site-packages (from APScheduler<=3.10.1->inference) (2022.7)\n",
      "Requirement already satisfied: tzlocal!=3.*,>=2.0 in c:\\users\\hp\\appdata\\roaming\\python\\python310\\site-packages (from APScheduler<=3.10.1->inference) (5.2)\n",
      "Requirement already satisfied: pydantic!=1.7,!=1.7.1,!=1.7.2,!=1.7.3,!=1.8,!=1.8.1,<2.0.0,>=1.6.2 in c:\\users\\hp\\appdata\\roaming\\python\\python310\\site-packages (from fastapi<=0.96->inference) (1.10.13)\n",
      "Requirement already satisfied: starlette<0.28.0,>=0.27.0 in c:\\users\\hp\\appdata\\roaming\\python\\python310\\site-packages (from fastapi<=0.96->inference) (0.27.0)\n",
      "Requirement already satisfied: protobuf in c:\\users\\hp\\appdata\\roaming\\python\\python310\\site-packages (from onnxruntime<=1.15.1->inference) (4.25.1)\n",
      "Requirement already satisfied: sympy in c:\\programdata\\anaconda3\\lib\\site-packages (from onnxruntime<=1.15.1->inference) (1.11.1)\n",
      "Requirement already satisfied: flatbuffers in c:\\users\\hp\\appdata\\roaming\\python\\python310\\site-packages (from onnxruntime<=1.15.1->inference) (23.5.26)\n",
      "Requirement already satisfied: coloredlogs in c:\\users\\hp\\appdata\\roaming\\python\\python310\\site-packages (from onnxruntime<=1.15.1->inference) (15.0.1)\n",
      "Requirement already satisfied: prometheus-client<1.0.0,>=0.8.0 in c:\\programdata\\anaconda3\\lib\\site-packages (from prometheus-fastapi-instrumentator<=6.0.0->inference) (0.14.1)\n",
      "Requirement already satisfied: pytest>=7.0.0 in c:\\programdata\\anaconda3\\lib\\site-packages (from pytest-asyncio<=0.21.1->inference) (7.1.2)\n",
      "Requirement already satisfied: async-timeout>=4.0.2 in c:\\users\\hp\\appdata\\roaming\\python\\python310\\site-packages (from redis<6.0.0->inference) (4.0.3)\n",
      "Requirement already satisfied: idna<4,>=2.5 in c:\\programdata\\anaconda3\\lib\\site-packages (from requests>=2.26.0->inference) (2.10)\n",
      "Requirement already satisfied: charset-normalizer<3,>=2 in c:\\programdata\\anaconda3\\lib\\site-packages (from requests>=2.26.0->inference) (2.0.4)\n",
      "Requirement already satisfied: certifi>=2017.4.17 in c:\\programdata\\anaconda3\\lib\\site-packages (from requests>=2.26.0->inference) (2023.7.22)\n",
      "Requirement already satisfied: markdown-it-py>=2.2.0 in c:\\users\\hp\\appdata\\roaming\\python\\python310\\site-packages (from rich<=13.5.2->inference) (3.0.0)\n",
      "Requirement already satisfied: pygments<3.0.0,>=2.13.0 in c:\\users\\hp\\appdata\\roaming\\python\\python310\\site-packages (from rich<=13.5.2->inference) (2.17.2)\n",
      "Requirement already satisfied: networkx>=2.2 in c:\\programdata\\anaconda3\\lib\\site-packages (from scikit-image>=0.19.0->inference) (2.8.4)\n",
      "Requirement already satisfied: scipy>=1.4.1 in c:\\programdata\\anaconda3\\lib\\site-packages (from scikit-image>=0.19.0->inference) (1.10.0)\n",
      "Requirement already satisfied: tifffile>=2019.7.26 in c:\\programdata\\anaconda3\\lib\\site-packages (from scikit-image>=0.19.0->inference) (2021.7.2)\n",
      "Requirement already satisfied: PyWavelets>=1.1.1 in c:\\programdata\\anaconda3\\lib\\site-packages (from scikit-image>=0.19.0->inference) (1.4.1)\n",
      "Requirement already satisfied: imageio>=2.4.1 in c:\\programdata\\anaconda3\\lib\\site-packages (from scikit-image>=0.19.0->inference) (2.26.0)\n",
      "Requirement already satisfied: pyyaml>=5.3 in c:\\programdata\\anaconda3\\lib\\site-packages (from supervision<1.0.0->inference) (6.0)\n",
      "Requirement already satisfied: matplotlib>=3.5.0 in c:\\programdata\\anaconda3\\lib\\site-packages (from supervision<1.0.0->inference) (3.7.0)\n",
      "Requirement already satisfied: opencv-python-headless<=4.8.1.78,>=4.5.5.64 in c:\\programdata\\anaconda3\\lib\\site-packages (from supervision<1.0.0->inference) (4.8.0.74)\n",
      "Requirement already satisfied: colorama in c:\\programdata\\anaconda3\\lib\\site-packages (from click<9.0.0,>=7.1.1->typer==0.9.0->inference) (0.4.6)\n",
      "Requirement already satisfied: mdurl~=0.1 in c:\\users\\hp\\appdata\\roaming\\python\\python310\\site-packages (from markdown-it-py>=2.2.0->rich<=13.5.2->inference) (0.1.2)\n",
      "Requirement already satisfied: fonttools>=4.22.0 in c:\\programdata\\anaconda3\\lib\\site-packages (from matplotlib>=3.5.0->supervision<1.0.0->inference) (4.25.0)\n",
      "Requirement already satisfied: kiwisolver>=1.0.1 in c:\\programdata\\anaconda3\\lib\\site-packages (from matplotlib>=3.5.0->supervision<1.0.0->inference) (1.4.4)\n",
      "Requirement already satisfied: pyparsing>=2.3.1 in c:\\users\\hp\\appdata\\roaming\\python\\python310\\site-packages (from matplotlib>=3.5.0->supervision<1.0.0->inference) (2.4.7)\n",
      "Requirement already satisfied: cycler>=0.10 in c:\\programdata\\anaconda3\\lib\\site-packages (from matplotlib>=3.5.0->supervision<1.0.0->inference) (0.10.0)\n",
      "Requirement already satisfied: python-dateutil>=2.7 in c:\\programdata\\anaconda3\\lib\\site-packages (from matplotlib>=3.5.0->supervision<1.0.0->inference) (2.8.2)\n",
      "Requirement already satisfied: contourpy>=1.0.1 in c:\\programdata\\anaconda3\\lib\\site-packages (from matplotlib>=3.5.0->supervision<1.0.0->inference) (1.0.5)\n",
      "Requirement already satisfied: attrs>=19.2.0 in c:\\programdata\\anaconda3\\lib\\site-packages (from pytest>=7.0.0->pytest-asyncio<=0.21.1->inference) (22.1.0)\n",
      "Requirement already satisfied: iniconfig in c:\\programdata\\anaconda3\\lib\\site-packages (from pytest>=7.0.0->pytest-asyncio<=0.21.1->inference) (1.1.1)\n",
      "Requirement already satisfied: pluggy<2.0,>=0.12 in c:\\programdata\\anaconda3\\lib\\site-packages (from pytest>=7.0.0->pytest-asyncio<=0.21.1->inference) (1.0.0)\n",
      "Requirement already satisfied: py>=1.8.2 in c:\\programdata\\anaconda3\\lib\\site-packages (from pytest>=7.0.0->pytest-asyncio<=0.21.1->inference) (1.11.0)\n",
      "Requirement already satisfied: tomli>=1.0.0 in c:\\programdata\\anaconda3\\lib\\site-packages (from pytest>=7.0.0->pytest-asyncio<=0.21.1->inference) (2.0.1)\n",
      "Requirement already satisfied: atomicwrites>=1.0 in c:\\programdata\\anaconda3\\lib\\site-packages (from pytest>=7.0.0->pytest-asyncio<=0.21.1->inference) (1.4.0)\n",
      "Requirement already satisfied: anyio<5,>=3.4.0 in c:\\programdata\\anaconda3\\lib\\site-packages (from starlette<0.28.0,>=0.27.0->fastapi<=0.96->inference) (3.5.0)\n",
      "Requirement already satisfied: tzdata in c:\\users\\hp\\appdata\\roaming\\python\\python310\\site-packages (from tzlocal!=3.*,>=2.0->APScheduler<=3.10.1->inference) (2023.4)\n",
      "Requirement already satisfied: humanfriendly>=9.1 in c:\\users\\hp\\appdata\\roaming\\python\\python310\\site-packages (from coloredlogs->onnxruntime<=1.15.1->inference) (10.0)\n",
      "Requirement already satisfied: mpmath>=0.19 in c:\\programdata\\anaconda3\\lib\\site-packages (from sympy->onnxruntime<=1.15.1->inference) (1.2.1)\n",
      "Requirement already satisfied: sniffio>=1.1 in c:\\programdata\\anaconda3\\lib\\site-packages (from anyio<5,>=3.4.0->starlette<0.28.0,>=0.27.0->fastapi<=0.96->inference) (1.2.0)\n",
      "Requirement already satisfied: pyreadline3 in c:\\users\\hp\\appdata\\roaming\\python\\python310\\site-packages (from humanfriendly>=9.1->coloredlogs->onnxruntime<=1.15.1->inference) (3.4.1)\n",
      "Note: you may need to restart the kernel to use updated packages.\n"
     ]
    },
    {
     "name": "stderr",
     "output_type": "stream",
     "text": [
      "WARNING: Ignoring invalid distribution -pencv-python (c:\\users\\hp\\appdata\\roaming\\python\\python310\\site-packages)\n",
      "WARNING: Ignoring invalid distribution -pencv-python (c:\\users\\hp\\appdata\\roaming\\python\\python310\\site-packages)\n",
      "WARNING: Ignoring invalid distribution -pencv-python (c:\\users\\hp\\appdata\\roaming\\python\\python310\\site-packages)\n",
      "WARNING: Ignoring invalid distribution -pencv-python (c:\\users\\hp\\appdata\\roaming\\python\\python310\\site-packages)\n",
      "WARNING: Ignoring invalid distribution -pencv-python (c:\\users\\hp\\appdata\\roaming\\python\\python310\\site-packages)\n",
      "WARNING: Ignoring invalid distribution -pencv-python (c:\\users\\hp\\appdata\\roaming\\python\\python310\\site-packages)\n"
     ]
    }
   ],
   "source": [
    "pip install inference"
   ]
  },
  {
   "cell_type": "code",
   "execution_count": null,
   "id": "046f3d1b",
   "metadata": {},
   "outputs": [],
   "source": [
    "pip uninstall opencv-python"
   ]
  },
  {
   "cell_type": "code",
   "execution_count": 1,
   "id": "a290bdb0",
   "metadata": {},
   "outputs": [],
   "source": [
    "import os\n",
    "\n",
    "# Set the Roboflow API key as an environment variable\n",
    "os.environ[\"ROBOFLOW_API_KEY\"] = \"dhOw3ym7s1Kivzengl6a\"\n"
   ]
  },
  {
   "cell_type": "code",
   "execution_count": 2,
   "id": "f96fb441",
   "metadata": {},
   "outputs": [
    {
     "name": "stderr",
     "output_type": "stream",
     "text": [
      "C:\\Users\\HP\\AppData\\Roaming\\Python\\Python310\\site-packages\\onnxruntime\\capi\\onnxruntime_inference_collection.py:65: UserWarning: Specified provider 'CUDAExecutionProvider' is not in available provider names.Available providers: 'CPUExecutionProvider'\n",
      "  warnings.warn(\n"
     ]
    }
   ],
   "source": [
    "from inference.models.utils import get_roboflow_model\n",
    "\n",
    "model = get_roboflow_model(model_id=\"bolt-sgg5o/4\")"
   ]
  },
  {
   "cell_type": "code",
   "execution_count": 3,
   "id": "311f79f2",
   "metadata": {},
   "outputs": [
    {
     "data": {
      "text/html": [
       "<pre style=\"white-space:pre;overflow-x:auto;line-height:normal;font-family:Menlo,'DejaVu Sans Mono',consolas,'Courier New',monospace\"><span style=\"color: #7fbfbf; text-decoration-color: #7fbfbf\">[01/11/24 11:41:35] </span><span style=\"color: #800000; text-decoration-color: #800000; font-weight: bold\">ERROR   </span> HTTP error encountered while requesting Roboflow API response: <span style=\"color: #008080; text-decoration-color: #008080; font-weight: bold\">404</span>  <a href=\"file://C:\\Users\\HP\\AppData\\Roaming\\Python\\Python310\\site-packages\\inference\\core\\roboflow_api.py\" target=\"_blank\"><span style=\"color: #7f7f7f; text-decoration-color: #7f7f7f\">roboflow_api.py</span></a><span style=\"color: #7f7f7f; text-decoration-color: #7f7f7f\">:</span><a href=\"file://C:\\Users\\HP\\AppData\\Roaming\\Python\\Python310\\site-packages\\inference\\core\\roboflow_api.py#84\" target=\"_blank\"><span style=\"color: #7f7f7f; text-decoration-color: #7f7f7f\">84</span></a>\n",
       "<span style=\"color: #7fbfbf; text-decoration-color: #7fbfbf\">                    </span>         Client Error: Not Found for url:                                    <span style=\"color: #7f7f7f; text-decoration-color: #7f7f7f\">                  </span>\n",
       "<span style=\"color: #7fbfbf; text-decoration-color: #7fbfbf\">                    </span>         <span style=\"color: #0000ff; text-decoration-color: #0000ff; text-decoration: underline\">https://api.roboflow.com/vmware-712/bolt-sgg5o/active_learning?api_</span> <span style=\"color: #7f7f7f; text-decoration-color: #7f7f7f\">                  </span>\n",
       "<span style=\"color: #7fbfbf; text-decoration-color: #7fbfbf\">                    </span>         <span style=\"color: #0000ff; text-decoration-color: #0000ff; text-decoration: underline\">key=dh</span>***6a                                                         <span style=\"color: #7f7f7f; text-decoration-color: #7f7f7f\">                  </span>\n",
       "</pre>\n"
      ],
      "text/plain": [
       "\u001b[2;36m[01/11/24 11:41:35]\u001b[0m\u001b[2;36m \u001b[0m\u001b[1;31mERROR   \u001b[0m HTTP error encountered while requesting Roboflow API response: \u001b[1;36m404\u001b[0m  \u001b]8;id=290242;file://C:\\Users\\HP\\AppData\\Roaming\\Python\\Python310\\site-packages\\inference\\core\\roboflow_api.py\u001b\\\u001b[2mroboflow_api.py\u001b[0m\u001b]8;;\u001b\\\u001b[2m:\u001b[0m\u001b]8;id=369474;file://C:\\Users\\HP\\AppData\\Roaming\\Python\\Python310\\site-packages\\inference\\core\\roboflow_api.py#84\u001b\\\u001b[2m84\u001b[0m\u001b]8;;\u001b\\\n",
       "\u001b[2;36m                    \u001b[0m         Client Error: Not Found for url:                                    \u001b[2m                  \u001b[0m\n",
       "\u001b[2;36m                    \u001b[0m         \u001b[4;94mhttps://api.roboflow.com/vmware-712/bolt-sgg5o/active_learning?\u001b[0m\u001b[4;94mapi_\u001b[0m \u001b[2m                  \u001b[0m\n",
       "\u001b[2;36m                    \u001b[0m         \u001b[4;94mkey\u001b[0m\u001b[4;94m=\u001b[0m\u001b[4;94mdh\u001b[0m***6a                                                         \u001b[2m                  \u001b[0m\n"
      ]
     },
     "metadata": {},
     "output_type": "display_data"
    },
    {
     "data": {
      "text/html": [
       "<pre style=\"white-space:pre;overflow-x:auto;line-height:normal;font-family:Menlo,'DejaVu Sans Mono',consolas,'Courier New',monospace\"><span style=\"color: #7fbfbf; text-decoration-color: #7fbfbf\">                    </span><span style=\"color: #800000; text-decoration-color: #800000\">WARNING </span> Registration thread is already stopped.                             <a href=\"file://C:\\Users\\HP\\AppData\\Roaming\\Python\\Python310\\site-packages\\inference\\core\\active_learning\\middlewares.py\" target=\"_blank\"><span style=\"color: #7f7f7f; text-decoration-color: #7f7f7f\">middlewares.py</span></a><span style=\"color: #7f7f7f; text-decoration-color: #7f7f7f\">:</span><a href=\"file://C:\\Users\\HP\\AppData\\Roaming\\Python\\Python310\\site-packages\\inference\\core\\active_learning\\middlewares.py#225\" target=\"_blank\"><span style=\"color: #7f7f7f; text-decoration-color: #7f7f7f\">225</span></a>\n",
       "</pre>\n"
      ],
      "text/plain": [
       "\u001b[2;36m                   \u001b[0m\u001b[2;36m \u001b[0m\u001b[31mWARNING \u001b[0m Registration thread is already stopped.                             \u001b]8;id=918244;file://C:\\Users\\HP\\AppData\\Roaming\\Python\\Python310\\site-packages\\inference\\core\\active_learning\\middlewares.py\u001b\\\u001b[2mmiddlewares.py\u001b[0m\u001b]8;;\u001b\\\u001b[2m:\u001b[0m\u001b]8;id=418026;file://C:\\Users\\HP\\AppData\\Roaming\\Python\\Python310\\site-packages\\inference\\core\\active_learning\\middlewares.py#225\u001b\\\u001b[2m225\u001b[0m\u001b]8;;\u001b\\\n"
      ]
     },
     "metadata": {},
     "output_type": "display_data"
    }
   ],
   "source": [
    "from inference import InferencePipeline\n",
    "from inference.core.interfaces.stream.sinks import render_boxes\n",
    "\n",
    "pipeline = InferencePipeline.init(\n",
    "    model_id=\"bolt-sgg5o/4\",\n",
    "    video_reference=0,\n",
    "    on_prediction=render_boxes,\n",
    ")\n",
    "pipeline.join()"
   ]
  },
  {
   "cell_type": "code",
   "execution_count": 3,
   "id": "22418d71",
   "metadata": {},
   "outputs": [
    {
     "name": "stdout",
     "output_type": "stream",
     "text": [
      "loading Roboflow workspace...\n",
      "loading Roboflow project...\n",
      "{'predictions': [], 'image': {'width': '640', 'height': '480'}}\n"
     ]
    }
   ],
   "source": [
    "import cv2\n",
    "from roboflow import Roboflow\n",
    "\n",
    "# Initialize Roboflow\n",
    "rf = Roboflow(api_key=\"dhOw3ym7s1Kivzengl6a\")\n",
    "project = rf.workspace().project(\"bolt-sgg5o\")\n",
    "model = project.version(4).model\n",
    "print(model.predict(\"captured_image.jpg\", confidence=40, overlap=30).json())\n",
    "\n",
    "# visualize your prediction\n",
    "\n",
    "model.predict(\"captured_image.jpg\", confidence=40, overlap=30).save(\"c_pred.jpg\")"
   ]
  },
  {
   "cell_type": "code",
   "execution_count": null,
   "id": "308100d8",
   "metadata": {
    "scrolled": false
   },
   "outputs": [],
   "source": [
    "#worked\n",
    "\n",
    "while True:\n",
    "    # Capture a frame from the webcam\n",
    "    ret, frame = cap.read()\n",
    "\n",
    "    if not ret:\n",
    "        print(\"Error: Unable to capture frame from the webcam.\")\n",
    "        continue\n",
    "\n",
    "    # Save the frame temporarily\n",
    "    cv2.imwrite(\"temp_frame.jpg\", frame)\n",
    "\n",
    "    try:\n",
    "        # Make predictions on the frame\n",
    "        output = model.predict(\"temp_frame.jpg\", confidence=40, overlap=30).json()\n",
    "        print(output)\n",
    "\n",
    "        # Visualize predictions on the frame\n",
    "        for prediction in output['predictions']:\n",
    "            x, y, width, height = prediction['x'], prediction['y'], prediction['width'], prediction['height']\n",
    "            confidence = prediction['confidence']\n",
    "            label = prediction['class']\n",
    "            if confidence >= 0.5 :\n",
    "            # Convert 'x', 'y', 'width', 'height' to bounding box coordinates\n",
    "                xmin, ymin, xmax, ymax = int(x), int(y), int(x + width), int(y + height)\n",
    "                cv2.rectangle(frame, (xmin, ymin), (xmax, ymax), (0, 255, 0), 2)\n",
    "                cv2.putText(frame, f\"{label}: {confidence:.2f}\", (xmin, ymin - 10), cv2.FONT_HERSHEY_SIMPLEX, 0.5, (0, 255, 0), 2)\n",
    "\n",
    "    except Exception as e:\n",
    "        print(\"No detection:\", e)\n",
    "\n",
    "    finally:\n",
    "        # Display the frame\n",
    "        cv2.imshow('detect', frame)\n",
    "\n",
    "        # Release resources in a finally block\n",
    "        if cv2.waitKey(1) & 0xFF == ord('q'):\n",
    "            cap.release()\n",
    "            cv2.destroyAllWindows()\n",
    "            break\n",
    "        elif cv2.waitKey(1) & 0xFF == ord('c'):\n",
    "            cv2.imwrite('captured_image.jpg', frame)\n",
    "            print('Image captured!')"
   ]
  },
  {
   "cell_type": "code",
   "execution_count": null,
   "id": "59410f49",
   "metadata": {},
   "outputs": [],
   "source": []
  },
  {
   "cell_type": "code",
   "execution_count": null,
   "id": "1c1f18b6",
   "metadata": {},
   "outputs": [],
   "source": []
  }
 ],
 "metadata": {
  "kernelspec": {
   "display_name": "Python 3 (ipykernel)",
   "language": "python",
   "name": "python3"
  },
  "language_info": {
   "codemirror_mode": {
    "name": "ipython",
    "version": 3
   },
   "file_extension": ".py",
   "mimetype": "text/x-python",
   "name": "python",
   "nbconvert_exporter": "python",
   "pygments_lexer": "ipython3",
   "version": "3.10.9"
  }
 },
 "nbformat": 4,
 "nbformat_minor": 5
}
